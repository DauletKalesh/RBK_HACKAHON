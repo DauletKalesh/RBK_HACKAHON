{
 "cells": [
  {
   "cell_type": "code",
   "execution_count": 45,
   "metadata": {},
   "outputs": [
    {
     "name": "stderr",
     "output_type": "stream",
     "text": [
      "[nltk_data] Downloading package stopwords to\n",
      "[nltk_data]     C:\\Users\\Daulet\\AppData\\Roaming\\nltk_data...\n",
      "[nltk_data]   Package stopwords is already up-to-date!\n"
     ]
    },
    {
     "name": "stdout",
     "output_type": "stream",
     "text": [
      "['служить', 'платежный', 'карточка']\n",
      "['оформлять', 'платежный', 'карточка']\n",
      "['делать', 'клиент', 'забывать', 'свой', 'пин', 'код']\n",
      "['депозит']\n",
      "['открывать', 'депозит']\n",
      "['подавать', 'заявка', 'кредит']\n",
      "['узнавать', 'остаток', 'долг', 'кредит']\n",
      "['сменить', 'PIN', 'код']\n"
     ]
    }
   ],
   "source": [
    "from pymystem3 import Mystem\n",
    "import nltk\n",
    "nltk.download('stopwords')\n",
    "from nltk.corpus import stopwords\n",
    "\n",
    "rus_stop = stopwords.words('russian')\n",
    "\n",
    "def filtration(text):\n",
    "    m = Mystem()\n",
    "    lemmas = m.lemmatize(text)\n",
    "    return list(filter(lambda word: word not in rus_stop and word.isalnum(), lemmas))\n",
    "\n"
   ]
  },
  {
   "cell_type": "code",
   "execution_count": 40,
   "metadata": {},
   "outputs": [
    {
     "data": {
      "text/plain": [
       "True"
      ]
     },
     "execution_count": 40,
     "metadata": {},
     "output_type": "execute_result"
    }
   ],
   "source": [
    "[1,3,4]==[1,3,4]\n"
   ]
  },
  {
   "cell_type": "code",
   "execution_count": null,
   "metadata": {},
   "outputs": [],
   "source": []
  }
 ],
 "metadata": {
  "interpreter": {
   "hash": "61d68e3d7991c64e52ca9001483364ae379bd71d9e8fbee14c825dfcee43bcef"
  },
  "kernelspec": {
   "display_name": "Python 3.9.0 ('hackaton')",
   "language": "python",
   "name": "python3"
  },
  "language_info": {
   "codemirror_mode": {
    "name": "ipython",
    "version": 3
   },
   "file_extension": ".py",
   "mimetype": "text/x-python",
   "name": "python",
   "nbconvert_exporter": "python",
   "pygments_lexer": "ipython3",
   "version": "3.9.0"
  },
  "orig_nbformat": 4
 },
 "nbformat": 4,
 "nbformat_minor": 2
}
